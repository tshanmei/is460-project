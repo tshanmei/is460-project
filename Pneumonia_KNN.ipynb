{
 "cells": [
  {
   "cell_type": "markdown",
   "metadata": {},
   "source": [
    "<h2>KNN Model<h2>"
   ]
  },
  {
   "cell_type": "code",
   "execution_count": 1,
   "metadata": {},
   "outputs": [
    {
     "name": "stdout",
     "output_type": "stream",
     "text": [
      "c:\\Users\\xfaan\\Documents\\GitHub\\is460-project\\myenv\\Scripts\\python.exe\n",
      "0.22.0\n"
     ]
    }
   ],
   "source": [
    "#import packages\n",
    "\n",
    "import sys\n",
    "print(sys.executable)\n",
    "\n",
    "import skimage\n",
    "print(skimage.__version__)\n",
    "\n",
    "import os\n",
    "import cv2\n",
    "\n",
    "#from tqdm import tqdm\n",
    "import tensorflow as tf\n",
    "import pandas as pd\n",
    "import matplotlib.pyplot as plt\n",
    "import numpy as np\n",
    "\n",
    "from tensorflow.keras.preprocessing.image import ImageDataGenerator\n",
    "from sklearn.metrics import confusion_matrix, classification_report\n",
    "from sklearn.model_selection import train_test_split\n",
    "#from sklearn.preprocessing import StandardScaler\n",
    "from sklearn.neighbors import KNeighborsClassifier\n",
    "from sklearn.metrics import accuracy_score, confusion_matrix, classification_report\n",
    "\n",
    "from sklearn.decomposition import PCA\n",
    "from skimage.feature import graycomatrix, graycoprops\n"
   ]
  },
  {
   "cell_type": "markdown",
   "metadata": {},
   "source": [
    "<h2> Data Pre-processing <h2>"
   ]
  },
  {
   "cell_type": "code",
   "execution_count": 2,
   "metadata": {},
   "outputs": [],
   "source": [
    "# Load and Preprocess Data\n",
    "DATA_SPLIT = 'train' \n",
    "DATA_DIR = os.path.join(\"chest_xray\", DATA_SPLIT)\n",
    "CATEGORIES = [\"NORMAL\", \"PNEUMONIA\"]\n",
    "\n",
    "data = []\n",
    "\n",
    "labels = []\n",
    "\n",
    "for category in CATEGORIES:\n",
    "    path = os.path.join(DATA_DIR, category)\n",
    "    for img in os.listdir(path):\n",
    "        img_array = cv2.imread(os.path.join(path, img), cv2.IMREAD_GRAYSCALE)\n",
    "        resized_array = cv2.resize(img_array, (150, 150))\n",
    "        data.append(resized_array)\n",
    "        labels.append(category)\n"
   ]
  },
  {
   "cell_type": "markdown",
   "metadata": {},
   "source": [
    "Texture-based Feature Extraction"
   ]
  },
  {
   "cell_type": "code",
   "execution_count": 5,
   "metadata": {},
   "outputs": [],
   "source": [
    "# Texture-based Feature Extraction\n",
    "\n",
    "def compute_texture_features(image):\n",
    "    glcm = graycomatrix(image, [1], [0], symmetric=True, normed=True)\n",
    "    contrast = graycoprops(glcm, 'contrast')[0, 0]\n",
    "    dissimilarity = graycoprops(glcm, 'dissimilarity')[0, 0]\n",
    "    homogeneity = graycoprops(glcm, 'homogeneity')[0, 0]\n",
    "    energy = graycoprops(glcm, 'energy')[0, 0]\n",
    "    correlation = graycoprops(glcm, 'correlation')[0, 0]\n",
    "    return [contrast, dissimilarity, homogeneity, energy, correlation]\n",
    "\n",
    "# Extract texture features\n",
    "texture_features = [compute_texture_features(image) for image in data]\n"
   ]
  },
  {
   "cell_type": "markdown",
   "metadata": {},
   "source": [
    "Data Augmentation"
   ]
  },
  {
   "cell_type": "code",
   "execution_count": 9,
   "metadata": {},
   "outputs": [],
   "source": [
    "# Data Augmentation\n",
    "augment = tf.keras.preprocessing.image.ImageDataGenerator(\n",
    "    rotation_range=10,\n",
    "    zoom_range=0.1,\n",
    "    width_shift_range=0.1,\n",
    "    height_shift_range=0.1,\n",
    "    horizontal_flip=True,\n",
    "    fill_mode=\"nearest\"\n",
    ")\n",
    "\n",
    "augmented_data = []\n",
    "augmented_labels = []\n",
    "\n",
    "for image, label in zip(data, labels):\n",
    "    image = image.reshape(1, 150, 150, 1)\n",
    "    for x_batch in augment.flow(image, batch_size=1):\n",
    "        augmented_data.append(x_batch.reshape(150, 150))\n",
    "        augmented_labels.append(label)\n",
    "        if len(augmented_data) % 5 == 0:  # for example, generate 5 augmented versions per image\n",
    "            break\n"
   ]
  },
  {
   "cell_type": "markdown",
   "metadata": {},
   "source": [
    "<h2>Training KNN Model<h2>"
   ]
  },
  {
   "cell_type": "code",
   "execution_count": 13,
   "metadata": {},
   "outputs": [
    {
     "name": "stdout",
     "output_type": "stream",
     "text": [
      "Best k value is 4 with test accuracy 0.8999233128834356\n"
     ]
    }
   ],
   "source": [
    "# Train KNN Model and find the best k value\n",
    "\n",
    "from sklearn.model_selection import train_test_split\n",
    "\n",
    "# Flatten the image data\n",
    "flattened_data = [feature.flatten() for feature in augmented_data]\n",
    "X = np.array(flattened_data)\n",
    "y = np.array(augmented_labels)\n",
    "\n",
    "# Split the dataset into training and test sets\n",
    "X_train, X_test, y_train, y_test = train_test_split(X, y, test_size=0.2, random_state=42)\n",
    "\n",
    "# Finding the best k\n",
    "best_accuracy = 0\n",
    "best_k = 1\n",
    "training_accuracy_list = []\n",
    "\n",
    "for k in range(1, 21):  # Checking k from 1 to 20\n",
    "    knn = KNeighborsClassifier(n_neighbors=k)\n",
    "    knn.fit(X_train, y_train)\n",
    "    # Evaluating accuracy on test data\n",
    "    test_accuracy = knn.score(X_test, y_test)\n",
    "    # Evaluating accuracy on training data\n",
    "    training_accuracy = knn.score(X_train, y_train)\n",
    "    training_accuracy_list.append(training_accuracy)  # Storing training accuracy\n",
    "    \n",
    "    # Update best accuracy and best k if current test accuracy is higher than the previous best\n",
    "    if test_accuracy > best_accuracy:\n",
    "        best_accuracy = test_accuracy\n",
    "        best_k = k\n",
    "\n",
    "print(f\"Best k value is {best_k} with test accuracy {best_accuracy}\")\n",
    "\n"
   ]
  },
  {
   "cell_type": "markdown",
   "metadata": {},
   "source": [
    "<h2> Metrics <h2>"
   ]
  },
  {
   "cell_type": "code",
   "execution_count": 14,
   "metadata": {},
   "outputs": [
    {
     "name": "stdout",
     "output_type": "stream",
     "text": [
      "--Metrics for Training Data--\n",
      "Accuracy_test: 0.8799\n",
      "Precision_test: 0.8645\n",
      "Recall_test: 0.9943\n",
      "F1 Score_test: 0.9249\n",
      "\n",
      "\n",
      "--Metrics for Testing Data--\n",
      "Accuracy: 0.8999\n",
      "Precision: 0.9065\n",
      "Recall: 0.9642\n",
      "F1 Score: 0.9345\n"
     ]
    }
   ],
   "source": [
    "from sklearn.metrics import precision_score\n",
    "from sklearn.metrics import recall_score\n",
    "from sklearn.metrics import f1_score\n",
    "from sklearn.metrics import accuracy_score\n",
    "\n",
    "positive_label = 'PNEUMONIA'\n",
    "\n",
    "# Metrics for Training Data\n",
    "y_pred_train = knn.predict(X_train)  \n",
    "\n",
    "accuracy_train = accuracy_score(y_train, y_pred_train)\n",
    "precision_train = precision_score(y_train, y_pred_train, pos_label=positive_label)\n",
    "recall_train = recall_score(y_train, y_pred_train, pos_label=positive_label)\n",
    "f1_train = f1_score(y_train, y_pred_train, pos_label=positive_label)\n",
    "\n",
    "print('--Metrics for Training Data--')\n",
    "print('Accuracy_test:', round(accuracy_train,4))\n",
    "print('Precision_test:', round(precision_train,4))\n",
    "print('Recall_test:', round(recall_train,4))\n",
    "print('F1 Score_test:', round(f1_train,4))\n",
    "\n",
    "\n",
    "print('\\n')\n",
    "# Metrics for Testing Data\n",
    "\n",
    "knn = KNeighborsClassifier(n_neighbors=best_k)\n",
    "knn.fit(X_train, y_train)\n",
    "y_pred = knn.predict(X_test)\n",
    "\n",
    "\n",
    "accuracy = accuracy_score(y_test, y_pred)\n",
    "precision = precision_score(y_test, y_pred, pos_label=positive_label)\n",
    "recall = recall_score(y_test, y_pred, pos_label=positive_label)\n",
    "f1 = f1_score(y_test, y_pred, pos_label=positive_label)\n",
    "\n",
    "print('--Metrics for Testing Data--')\n",
    "print('Accuracy:', round(accuracy,4))\n",
    "print('Precision:', round(precision,4))\n",
    "print('Recall:', round(recall,4))\n",
    "print('F1 Score:', round(f1,4))\n",
    "\n"
   ]
  },
  {
   "cell_type": "markdown",
   "metadata": {},
   "source": [
    "<h2>K vs. Accuracy Graph:<h2>"
   ]
  },
  {
   "cell_type": "code",
   "execution_count": 16,
   "metadata": {},
   "outputs": [
    {
     "data": {
      "image/png": "[encoded data removed]",
      "text/plain": [
       "<Figure size 1000x500 with 1 Axes>"
      ]
     },
     "metadata": {},
     "output_type": "display_data"
    }
   ],
   "source": [
    "# Visualizing the accuracy for different values of k\n",
    "plt.figure(figsize=(10, 5))\n",
    "plt.plot(range(1, len(training_accuracy_list) + 1), training_accuracy_list, marker='o', linestyle='dashed', label='Train Accuracy', color='r')\n",
    "plt.xlabel('K value')\n",
    "plt.ylabel('Accuracy')\n",
    "plt.title('K vs Accuracy')\n",
    "plt.xticks(range(1, len(training_accuracy_list) + 1))\n",
    "plt.legend()\n",
    "plt.grid(True)\n",
    "plt.show()\n",
    "\n"
   ]
  },
  {
   "cell_type": "markdown",
   "metadata": {},
   "source": []
  }
 ],
 "metadata": {
  "kernelspec": {
   "display_name": "Python 3 (ipykernel)",
   "language": "python",
   "name": "python3"
  },
  "language_info": {
   "codemirror_mode": {
    "name": "ipython",
    "version": 3
   },
   "file_extension": ".py",
   "mimetype": "text/x-python",
   "name": "python",
   "nbconvert_exporter": "python",
   "pygments_lexer": "ipython3",
   "version": "3.11.1"
  }
 },
 "nbformat": 4,
 "nbformat_minor": 2
}
